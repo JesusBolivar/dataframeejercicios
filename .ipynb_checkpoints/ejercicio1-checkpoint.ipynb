{
 "cells": [
  {
   "cell_type": "code",
   "execution_count": 43,
   "metadata": {},
   "outputs": [],
   "source": [
    "import pandas as pds\n",
    "from faker import Faker\n",
    "import matplotlib.pyplot as ptl"
   ]
  },
  {
   "cell_type": "code",
   "execution_count": 73,
   "metadata": {},
   "outputs": [
    {
     "name": "stdout",
     "output_type": "stream",
     "text": [
      "                              nombre                                 email\n",
      "0                Felix Esteve Montes                sorianooscar@gmail.com\n",
      "1               Noelia Cañete Barral             ferreramiguel@hotmail.com\n",
      "2                    Soledad Herrera                   elisaluna@yahoo.com\n",
      "3                Felipe Valdés Osuna                felipemadrid@yahoo.com\n",
      "4                    Sonia del Chico                     ediez@hotmail.com\n",
      "5          Virginia Mercader Canales                      storo@cerdan.com\n",
      "6           Mercedes Azcona Palacios              isernlorenzo@hotmail.com\n",
      "7    Jose Antonio Carreras Rodríguez                   sofiafranch@tur.org\n",
      "8        Francisco Javier de Carrera              gilabertfelipe@yahoo.com\n",
      "9   Cristina María Carballo Zorrilla                  susana12@hotmail.com\n",
      "10                 Lourdes Baró Juan               joaquinmunoz@casas.info\n",
      "11              Felix Naranjo-Ibarra             andreasandoval@barrio.net\n",
      "12                    Felix de Folch                  carolina74@solis.com\n",
      "13               Milagros Piña Isern                isaez@cerezo-cueto.com\n",
      "14                Alba Mata Nogueira          juan-francisco28@alvarez.com\n",
      "15                Nuria Anaya Piquer              victoriagras@atienza.biz\n",
      "16     Roberto Daniel Gutierrez Díaz    teresacanton@melendez-nogueira.com\n",
      "17                  Ines Palma Casas                      xnebot@ponce.com\n",
      "18               Adrián Valdés Pombo               luissoledad@sabater.com\n",
      "19            Julian Cabañas-Canales                   joaquin78@rubio.com\n",
      "20          Catalina Castell Noriega                     elisa04@jorda.com\n",
      "21   Juan Francisco Escudero Almagro                    epaez@escudero.biz\n",
      "22              Mariano Ariza-Merino                  veronica17@gmail.com\n",
      "23             Jose Antonio Menendez                 mercedesros@yahoo.com\n",
      "24              Soledad del Palacios               gloriasalazar@gmail.com\n",
      "25              Victor Bárcena Piñol             escamillaangela@yahoo.com\n",
      "26     Silvia Pilar Olivera Portillo                      hugo71@nebot.com\n",
      "27      Francisco Javier del Beltrán             herrerapatricia@moran.com\n",
      "28             Jose Angel Feliu Juan         zsalmeron@escalona-pazos.info\n",
      "29      Remedios Carla Manso Peinado                  felipe10@hotmail.com\n",
      "30        Dolores Gloria Silva Núñez                    begona93@yahoo.com\n",
      "31        Jose Ramon Estévez Linares              mar13@blasco-pizarro.com\n",
      "32         Guillermo Guardiola Lucas   andreshernandez@batalla-serrano.com\n",
      "33                    Luisa del Malo    jose-franciscocabanillas@gmail.com\n",
      "34               Belen Tapia Santana             sergioescobar@quiroga.org\n",
      "35             Clara Paniagua Sotelo                     jfont@alberdi.org\n",
      "36                 María Dalmau Roca                 feliumiguel@yahoo.com\n",
      "37          Lorena Álvarez-Vilaplana  francisco-javierechevarria@gmail.com\n",
      "38                  Antonio del Sola                carellano@vizcaino.net\n",
      "39                      Ines Cordero              jose-maria84@briones.com\n",
      "40       Claudia Goicoechea Aramburu  aragonesdavid@pellicer-vendrell.info\n",
      "41                Xavier Noguera Gil                   roberto90@gmail.com\n",
      "42                  Miguel Paz Ramón           franciscovalera@velasco.com\n",
      "43        Ivan Alfredo Sureda Barros                     tquiros@yahoo.com\n",
      "44                       Jorge Tovar                ferrerasanna@yahoo.com\n",
      "45              Mireia Gisbert Prats    francisco-josecoronado@hotmail.com\n",
      "46                  Xavier de Bernad                mercedes95@hotmail.com\n",
      "47               Vanesa Cabello-Maza                  tramirez@valdes.info\n",
      "48               Mario Carreras Sanz                   jesusegea@yahoo.com\n",
      "49                   Susana Haro-Luz                    andres33@yahoo.com\n",
      "0                  gmail.com\n",
      "1                hotmail.com\n",
      "2                  yahoo.com\n",
      "3                  yahoo.com\n",
      "4                hotmail.com\n",
      "5                 cerdan.com\n",
      "6                hotmail.com\n",
      "7                    tur.org\n",
      "8                  yahoo.com\n",
      "9                hotmail.com\n",
      "10                casas.info\n",
      "11                barrio.net\n",
      "12                 solis.com\n",
      "13          cerezo-cueto.com\n",
      "14               alvarez.com\n",
      "15               atienza.biz\n",
      "16     melendez-nogueira.com\n",
      "17                 ponce.com\n",
      "18               sabater.com\n",
      "19                 rubio.com\n",
      "20                 jorda.com\n",
      "21              escudero.biz\n",
      "22                 gmail.com\n",
      "23                 yahoo.com\n",
      "24                 gmail.com\n",
      "25                 yahoo.com\n",
      "26                 nebot.com\n",
      "27                 moran.com\n",
      "28       escalona-pazos.info\n",
      "29               hotmail.com\n",
      "30                 yahoo.com\n",
      "31        blasco-pizarro.com\n",
      "32       batalla-serrano.com\n",
      "33                 gmail.com\n",
      "34               quiroga.org\n",
      "35               alberdi.org\n",
      "36                 yahoo.com\n",
      "37                 gmail.com\n",
      "38              vizcaino.net\n",
      "39               briones.com\n",
      "40    pellicer-vendrell.info\n",
      "41                 gmail.com\n",
      "42               velasco.com\n",
      "43                 yahoo.com\n",
      "44                 yahoo.com\n",
      "45               hotmail.com\n",
      "46               hotmail.com\n",
      "47               valdes.info\n",
      "48                 yahoo.com\n",
      "49                 yahoo.com\n",
      "Name: email, dtype: object\n"
     ]
    }
   ],
   "source": [
    "datosfaker = Faker(\"es_ES\")\n",
    "dataframe = pds.DataFrame ({}, columns=('nombre','email'))\n",
    "for i in range (50):\n",
    "    datos = [ datosfaker.name(), datosfaker.email()]\n",
    "    dataframe.loc[i] = [item for item in datos]\n",
    "print(dataframe)\n",
    "correo = dataframe['email']\n",
    "correo2 = correo.str.split(\"@\").str[1]\n",
    "print(correo2)\n"
   ]
  },
  {
   "cell_type": "code",
   "execution_count": 72,
   "metadata": {},
   "outputs": [
    {
     "ename": "NameError",
     "evalue": "name 'plt' is not defined",
     "output_type": "error",
     "traceback": [
      "\u001b[0;31m---------------------------------------------------------------------------\u001b[0m",
      "\u001b[0;31mNameError\u001b[0m                                 Traceback (most recent call last)",
      "\u001b[0;32m<ipython-input-72-ee3e06729f42>\u001b[0m in \u001b[0;36m<module>\u001b[0;34m\u001b[0m\n\u001b[1;32m      1\u001b[0m \u001b[0mdominiocorreo2\u001b[0m\u001b[0;34m.\u001b[0m\u001b[0mvalue_counts\u001b[0m\u001b[0;34m(\u001b[0m\u001b[0;34m)\u001b[0m\u001b[0;34m.\u001b[0m\u001b[0mplot\u001b[0m\u001b[0;34m(\u001b[0m\u001b[0mkind\u001b[0m\u001b[0;34m=\u001b[0m\u001b[0;34m'bar'\u001b[0m\u001b[0;34m)\u001b[0m\u001b[0;34m\u001b[0m\u001b[0m\n\u001b[0;32m----> 2\u001b[0;31m \u001b[0mplt\u001b[0m\u001b[0;34m.\u001b[0m\u001b[0mtitle\u001b[0m\u001b[0;34m(\u001b[0m\u001b[0;34m'Correos mas usados'\u001b[0m\u001b[0;34m)\u001b[0m\u001b[0;34m\u001b[0m\u001b[0m\n\u001b[0m\u001b[1;32m      3\u001b[0m \u001b[0mplt\u001b[0m\u001b[0;34m.\u001b[0m\u001b[0mshow\u001b[0m\u001b[0;34m(\u001b[0m\u001b[0;34m)\u001b[0m\u001b[0;34m\u001b[0m\u001b[0m\n",
      "\u001b[0;31mNameError\u001b[0m: name 'plt' is not defined"
     ]
    },
    {
     "data": {
      "image/png": "[encoded data removed]",
      "text/plain": [
       "<Figure size 432x288 with 1 Axes>"
      ]
     },
     "metadata": {
      "needs_background": "light"
     },
     "output_type": "display_data"
    }
   ],
   "source": [
    "correo2.value_counts().plot(kind='bar')\n",
    "plt.title('Correos mas usados')\n",
    "plt.show()"
   ]
  },
  {
   "cell_type": "code",
   "execution_count": null,
   "metadata": {},
   "outputs": [],
   "source": []
  }
 ],
 "metadata": {
  "kernelspec": {
   "display_name": "Python 3",
   "language": "python",
   "name": "python3"
  },
  "language_info": {
   "codemirror_mode": {
    "name": "ipython",
    "version": 3
   },
   "file_extension": ".py",
   "mimetype": "text/x-python",
   "name": "python",
   "nbconvert_exporter": "python",
   "pygments_lexer": "ipython3",
   "version": "3.6.6"
  }
 },
 "nbformat": 4,
 "nbformat_minor": 2
}
