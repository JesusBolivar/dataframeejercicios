{
 "cells": [
  {
   "cell_type": "code",
   "execution_count": 19,
   "metadata": {},
   "outputs": [],
   "source": [
    "import pandas as pds\n",
    "from faker import Faker\n",
    "import matplotlib.pyplot as ptl"
   ]
  },
  {
   "cell_type": "code",
   "execution_count": 29,
   "metadata": {},
   "outputs": [
    {
     "name": "stdout",
     "output_type": "stream",
     "text": [
      "                               nombre                              email\n",
      "0                 Jose Angel de Otero             rafaelsolera@yahoo.com\n",
      "1              Jose Luis Arévalo Prat           roblesgregorio@velez.com\n",
      "2            Catalina Tolosa Riquelme   cuevascarlos@albero-alvarez.info\n",
      "3       Jose Francisco Escrivá Blanes    manjonjose-antonio@torrijos.com\n",
      "4              Juan Aitor Cáceres Bas    reinafrancisco-javier@lamas.org\n",
      "5       Juan Antonio Duarte Fernandez      cristina05@calvet-pinilla.com\n",
      "6                    Carla de Álvarez       pguillen@abril-berenguer.com\n",
      "7               Jesús Gibert Martinez              alejandra41@gmail.com\n",
      "8                 Belen Almagro Vives        rubenlerma@gallo-andreu.com\n",
      "9             Gabriel Benitez Benítez      gregoriomontserrat@blanes.org\n",
      "10               Jorge Angulo Reguera            ariasjosefa@clavero.com\n",
      "11              Alicia Ortega Estrada         expositovicenta@avila.info\n",
      "12                   Carmen Jove Bayo                  aamat@espanol.net\n",
      "13  Jose Ignacio Jesús Portillo Parra            juan-manuel79@yahoo.com\n",
      "14                   Iker del Vilalta          gloria31@comas-samper.com\n",
      "15               Joaquin Girona Cerdá        villanuevaangela@bustos.com\n",
      "16       Purificación Gomis-Corominas                  ltejero@gmail.com\n",
      "17                Javier del Gabaldón                sandres@garrido.com\n",
      "18             Celia Clemente Carmona                  vbarrio@yahoo.com\n",
      "19               Susana Guzman-Juárez   lorenzo10@palacios-rodriguez.biz\n",
      "20            Martin Doménech Noriega               ibarcelo@hotmail.com\n",
      "21           Pablo Vizcaíno Domínguez           pablovarela@quevedo.info\n",
      "22          Marc Raul Sacristán Llano             sarabiaelisa@yahoo.com\n",
      "23                Andrés Gallo Galván        salvadorchaparro@medina.com\n",
      "24                  Montserrat Valera             alegrepaula@palomo.com\n",
      "25                Vicente Paz Villena                tjordan@hotmail.com\n",
      "26                  Nerea Villa Álamo                vicenta68@yahoo.com\n",
      "27                   Julian Salamanca       borrasgema@carlos-soria.info\n",
      "28          Ana Begoña Arrieta Galvez  angelribas@carbajo-sebastian.info\n",
      "29                 Pablo Azcona Marin              juanredondo@yahoo.com\n",
      "30               Nerea Pujadas-Girona                 luisroma@yahoo.com\n",
      "31                       Paula Patiño               crobledo@hotmail.com\n",
      "32            Alfonso Sanmartín Godoy                eduardo56@gmail.com\n",
      "33              Lorena del Santamaría      dcorbacho@bermudez-bernat.com\n",
      "34            Gloria Luz Isern Macias                 javier68@gmail.com\n",
      "35             Albert Ribes Hernández                 rafael98@nebot.com\n",
      "36            Cristian Cardona Pineda    grauroberto@tejada-arellano.org\n",
      "37              Pablo Rivero Carvajal                 elisa41@alegre.org\n",
      "38                  Lidia del Bellido              bnovoa@manzanares.org\n",
      "39         Victor Manuel Amor Paredes       begona63@angulo-sanabria.biz\n",
      "40            Andrés Arenas Ferrández                 roberto02@mesa.com\n",
      "41                     Mar Diez Gómez            sebastianlosa@yahoo.com\n",
      "42                      Emilio Blanes                 ramon94@otero.info\n",
      "43            Manuel Rodríguez Ripoll       montserratrosado@hotmail.com\n",
      "44             Inmaculada Romeu Tello                  eperera@yahoo.com\n",
      "45             Inmaculada Tovar Rojas                jaime93@hotmail.com\n",
      "46             Antonia Ferrero Crespi    gemaheras@casanova-gonzalez.net\n",
      "47             Fernando Alfaro Campos             teresacobo@hotmail.com\n",
      "48               Gonzalo Tomé Cabello              sandra92@moraleda.net\n",
      "49                Hector Verdú Larrea              beatriz25@hotmail.com\n"
     ]
    }
   ],
   "source": [
    "datosfaker = Faker(\"es_ES\")\n",
    "dataframe = pds.DataFrame ({}, columns=('nombre','email'))\n",
    "for i in range (50):\n",
    "    datos = [ datosfaker.name(), datosfaker.email()]\n",
    "    dataframe.loc[i] = [item for item in datos]\n",
    "print(dataframe)"
   ]
  },
  {
   "cell_type": "code",
   "execution_count": null,
   "metadata": {},
   "outputs": [],
   "source": []
  },
  {
   "cell_type": "code",
   "execution_count": null,
   "metadata": {},
   "outputs": [],
   "source": []
  }
 ],
 "metadata": {
  "kernelspec": {
   "display_name": "Python 3",
   "language": "python",
   "name": "python3"
  },
  "language_info": {
   "codemirror_mode": {
    "name": "ipython",
    "version": 3
   },
   "file_extension": ".py",
   "mimetype": "text/x-python",
   "name": "python",
   "nbconvert_exporter": "python",
   "pygments_lexer": "ipython3",
   "version": "3.6.6"
  }
 },
 "nbformat": 4,
 "nbformat_minor": 2
}
